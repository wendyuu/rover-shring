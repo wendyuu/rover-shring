{
 "cells": [
  {
   "cell_type": "code",
   "execution_count": null,
   "metadata": {},
   "outputs": [],
   "source": [
    "#explore different features for conversation booking rate prediction\n",
    "import pandas as pd\n",
    "import os\n",
    "import matplotlib.pyplot as plt\n",
    "import numpy as np\n",
    "from sklearn.linear_model import LinearRegression\n",
    "import statsmodels.api as sm\n",
    "import pylab as pl\n",
    "import seaborn as sns\n",
    "from patsy import dmatrices\n",
    "from sklearn.linear_model import LogisticRegression\n",
    "from sklearn import metrics\n",
    "import analytics_lib\n",
    "from analytics_lib import Bucket_BR_Plot\n",
    "from analytics_lib.Bucket_BR_Plot import *\n",
    "from analytics_lib.add_column import add_column\n",
    "import modeldata\n",
    "from modeldata.importdata_afterDV import *\n",
    "from analytics_lib.GenerateCBRCI import GenerateCBRCI\n",
    "from analytics_lib.import_training_data import get_feature_from_database"
   ]
  },
  {
   "cell_type": "code",
   "execution_count": null,
   "metadata": {
    "collapsed": true
   },
   "outputs": [],
   "source": [
    "data_dir = '/Users/wendyshi/Development/Post_DV_Data'\n",
    "date_stamp = '2017-07-01'"
   ]
  },
  {
   "cell_type": "markdown",
   "metadata": {},
   "source": [
    "## download data"
   ]
  },
  {
   "cell_type": "code",
   "execution_count": null,
   "metadata": {
    "scrolled": false
   },
   "outputs": [],
   "source": [
    "df = get_feature_from_database(data_dir=data_dir,start_date=date_stamp,force_download=False,purpose = 'training')"
   ]
  },
  {
   "cell_type": "markdown",
   "metadata": {},
   "source": [
    "## Generate new feature rover_dv_pct to show how much information is coming from DV"
   ]
  },
  {
   "cell_type": "code",
   "execution_count": 11,
   "metadata": {},
   "outputs": [],
   "source": [
    "from analytics_lib.get_training_conversation import get_training_conversation\n",
    "from analytics_lib.gen_color_df import gen_color_df \n",
    "\n",
    "df_training = get_training_conversation(df)\n",
    "# get rid of need_booked conversations in training set\n",
    "df_training = df_training.drop(df_training[(df_training.booked == False) &(df_training.need_booked == True)].index)\n",
    "df_training = df_training.drop(df_training[(df_training.provider_type == 'unmigrated')].index)\n",
    "df_training = df_training.rename(columns = {'provider_all_requests':'all_requests_provider'})\n",
    "from analytics_lib.gen_color_df import gen_color_df \n",
    "df_training = gen_color_df(df_training)\n",
    "df_training.to_csv(os.path.join(data_dir,'DB_training_post_'+date_stamp+'.csv'))"
   ]
  },
  {
   "cell_type": "code",
   "execution_count": 12,
   "metadata": {},
   "outputs": [],
   "source": [
    "from analytics_lib.get_training_conversation import get_training_conversation\n",
    "ob = get_training_conversation(df,'overnight-boarding')\n",
    "from analytics_lib.gen_color_df import gen_color_df \n",
    "ob = gen_color_df(ob)"
   ]
  },
  {
   "cell_type": "code",
   "execution_count": 38,
   "metadata": {},
   "outputs": [],
   "source": [
    "df['ratio2'] = 1.0/df.rover_imported_ratio\n",
    "df.loc[pd.isnull(df.ratio2),'ratio2'] = 0\n",
    "df.loc[df.ratio2>100,'ratio2'] =1"
   ]
  },
  {
   "cell_type": "code",
   "execution_count": 45,
   "metadata": {},
   "outputs": [
    {
     "data": {
      "image/png": "[encoded data removed]",
      "text/plain": [
       "<matplotlib.figure.Figure at 0x1a0c6ff90>"
      ]
     },
     "metadata": {},
     "output_type": "display_data"
    }
   ],
   "source": [
    "df_training[(df_training.service_type=='overnight-boarding') & (df_training.rover_imported_ratio<1)][['rover_imported_ratio','provider_type']].hist()\n",
    "plt.show()"
   ]
  },
  {
   "cell_type": "markdown",
   "metadata": {},
   "source": [
    "## Consolidate the setting files"
   ]
  },
  {
   "cell_type": "code",
   "execution_count": 56,
   "metadata": {},
   "outputs": [],
   "source": [
    "fillna_df = pd.DataFrame(columns = ['service_type','feature_name','matriculation_level','fill_value'])\n",
    "fillna_fn = 'Setting_fill_nan_R2BModel.csv'\n",
    "for st in df_training.service_type.unique():\n",
    "    fn = 'features_fill_nan_settings_'+st+'.csv'\n",
    "    sub = pd.read_csv(os.path.join(data_dir,fn))\n",
    "    sub['service_type'] = st\n",
    "    fillna_df = fillna_df.append(sub)\n",
    "fillna_df.to_csv(os.path.join(data_dir,fillna_fn))"
   ]
  },
  {
   "cell_type": "code",
   "execution_count": 57,
   "metadata": {
    "collapsed": true
   },
   "outputs": [],
   "source": [
    "clip_df = pd.DataFrame(columns = ['service_type','feature_name','min_clip','max_clip'])\n",
    "clip_fn = 'Setting_clipping_R2BModel.csv'\n",
    "for st in df_training.service_type.unique():\n",
    "    fn = 'features_clipped_settings_'+st+'.csv'\n",
    "    sub = pd.read_csv(os.path.join(data_dir,fn))\n",
    "    sub['service_type'] = st\n",
    "    clip_df = clip_df.append(sub)\n",
    "clip_df.to_csv(os.path.join(data_dir,clip_fn))"
   ]
  }
 ],
 "metadata": {
  "kernelspec": {
   "display_name": "Python 2",
   "language": "python",
   "name": "python2"
  },
  "language_info": {
   "codemirror_mode": {
    "name": "ipython",
    "version": 2
   },
   "file_extension": ".py",
   "mimetype": "text/x-python",
   "name": "python",
   "nbconvert_exporter": "python",
   "pygments_lexer": "ipython2",
   "version": "2.7.13"
  }
 },
 "nbformat": 4,
 "nbformat_minor": 2
}
